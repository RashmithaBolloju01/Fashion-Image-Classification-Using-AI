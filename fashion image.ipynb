{
 "cells": [
  {
   "cell_type": "code",
   "execution_count": 1,
   "metadata": {
    "id": "WfcomoMwzPWg"
   },
   "outputs": [],
   "source": [
    "import torch\n",
    "import numpy as np\n",
    "from torch.utils.data import Dataset, DataLoader\n",
    "from torch import nn\n",
    "from torchvision import transforms\n",
    "import matplotlib.pyplot as plt\n",
    "import torchvision\n",
    "import torch.nn.functional as F\n",
    "from torch.autograd import Variable\n",
    "from torch import optim\n"
   ]
  },
  {
   "cell_type": "code",
   "execution_count": 2,
   "metadata": {
    "id": "7obtYUQR1e2Y"
   },
   "outputs": [],
   "source": [
    "device = 'cuda' if torch.cuda.is_available() else 'cpu'"
   ]
  },
  {
   "cell_type": "code",
   "execution_count": 3,
   "metadata": {
    "colab": {
     "base_uri": "https://localhost:8080/"
    },
    "id": "svFd8O0Q1ifQ",
    "outputId": "866327d7-a8fb-4a76-d1d9-d4f7a9f6a11e"
   },
   "outputs": [
    {
     "name": "stdout",
     "output_type": "stream",
     "text": [
      "Downloading http://fashion-mnist.s3-website.eu-central-1.amazonaws.com/train-images-idx3-ubyte.gz\n",
      "Downloading http://fashion-mnist.s3-website.eu-central-1.amazonaws.com/train-images-idx3-ubyte.gz to .data/FashionMNIST/raw/train-images-idx3-ubyte.gz\n"
     ]
    },
    {
     "name": "stderr",
     "output_type": "stream",
     "text": [
      "100%|██████████| 26421880/26421880 [00:02<00:00, 11470496.29it/s]\n"
     ]
    },
    {
     "name": "stdout",
     "output_type": "stream",
     "text": [
      "Extracting .data/FashionMNIST/raw/train-images-idx3-ubyte.gz to .data/FashionMNIST/raw\n",
      "\n",
      "Downloading http://fashion-mnist.s3-website.eu-central-1.amazonaws.com/train-labels-idx1-ubyte.gz\n",
      "Downloading http://fashion-mnist.s3-website.eu-central-1.amazonaws.com/train-labels-idx1-ubyte.gz to .data/FashionMNIST/raw/train-labels-idx1-ubyte.gz\n"
     ]
    },
    {
     "name": "stderr",
     "output_type": "stream",
     "text": [
      "100%|██████████| 29515/29515 [00:00<00:00, 212655.93it/s]\n"
     ]
    },
    {
     "name": "stdout",
     "output_type": "stream",
     "text": [
      "Extracting .data/FashionMNIST/raw/train-labels-idx1-ubyte.gz to .data/FashionMNIST/raw\n",
      "\n",
      "Downloading http://fashion-mnist.s3-website.eu-central-1.amazonaws.com/t10k-images-idx3-ubyte.gz\n",
      "Downloading http://fashion-mnist.s3-website.eu-central-1.amazonaws.com/t10k-images-idx3-ubyte.gz to .data/FashionMNIST/raw/t10k-images-idx3-ubyte.gz\n"
     ]
    },
    {
     "name": "stderr",
     "output_type": "stream",
     "text": [
      "100%|██████████| 4422102/4422102 [00:01<00:00, 3808810.77it/s]\n"
     ]
    },
    {
     "name": "stdout",
     "output_type": "stream",
     "text": [
      "Extracting .data/FashionMNIST/raw/t10k-images-idx3-ubyte.gz to .data/FashionMNIST/raw\n",
      "\n",
      "Downloading http://fashion-mnist.s3-website.eu-central-1.amazonaws.com/t10k-labels-idx1-ubyte.gz\n",
      "Downloading http://fashion-mnist.s3-website.eu-central-1.amazonaws.com/t10k-labels-idx1-ubyte.gz to .data/FashionMNIST/raw/t10k-labels-idx1-ubyte.gz\n"
     ]
    },
    {
     "name": "stderr",
     "output_type": "stream",
     "text": [
      "100%|██████████| 5148/5148 [00:00<00:00, 19845842.82it/s]"
     ]
    },
    {
     "name": "stdout",
     "output_type": "stream",
     "text": [
      "Extracting .data/FashionMNIST/raw/t10k-labels-idx1-ubyte.gz to .data/FashionMNIST/raw\n",
      "\n"
     ]
    },
    {
     "name": "stderr",
     "output_type": "stream",
     "text": [
      "\n"
     ]
    }
   ],
   "source": [
    "trans = transforms.Compose([\n",
    "    transforms.ToTensor(), transforms.Normalize((0.5), (0.5))\n",
    "])\n",
    "\n",
    "dataset = torchvision.datasets.FashionMNIST('.data/', download=True, train=True, transform=trans)"
   ]
  },
  {
   "cell_type": "code",
   "execution_count": 4,
   "metadata": {
    "colab": {
     "base_uri": "https://localhost:8080/"
    },
    "id": "LNTT0BIM1y47",
    "outputId": "f4cbdc14-2a97-41b7-af06-56a1c4abbce4"
   },
   "outputs": [
    {
     "data": {
      "text/plain": [
       "{'T-shirt/top': 0,\n",
       " 'Trouser': 1,\n",
       " 'Pullover': 2,\n",
       " 'Dress': 3,\n",
       " 'Coat': 4,\n",
       " 'Sandal': 5,\n",
       " 'Shirt': 6,\n",
       " 'Sneaker': 7,\n",
       " 'Bag': 8,\n",
       " 'Ankle boot': 9}"
      ]
     },
     "execution_count": 4,
     "metadata": {},
     "output_type": "execute_result"
    }
   ],
   "source": [
    "dataset.class_to_idx"
   ]
  },
  {
   "cell_type": "code",
   "execution_count": 7,
   "metadata": {
    "id": "XLit3Av719so"
   },
   "outputs": [],
   "source": [
    "classes = list(dataset.class_to_idx.keys())"
   ]
  },
  {
   "cell_type": "code",
   "execution_count": 5,
   "metadata": {
    "id": "bAJqspkg13ac"
   },
   "outputs": [],
   "source": [
    "dataloader = DataLoader(dataset, batch_size=128, shuffle=True)"
   ]
  },
  {
   "cell_type": "code",
   "execution_count": 14,
   "metadata": {
    "colab": {
     "base_uri": "https://localhost:8080/",
     "height": 192
    },
    "id": "pcBwps-a2DpD",
    "outputId": "3e40a71f-be1e-48b9-c556-a6772428d897"
   },
   "outputs": [
    {
     "data": {
      "image/png": "[encoded data removed]",
      "text/plain": [
       "<Figure size 1000x200 with 5 Axes>"
      ]
     },
     "metadata": {},
     "output_type": "display_data"
    }
   ],
   "source": [
    "fig, axes = plt.subplots(1,5, figsize=(10,2))\n",
    "\n",
    "for ax in axes.ravel():\n",
    "  r = next(iter(dataloader))\n",
    "  ax.imshow(r[0].numpy()[1].reshape(28,28), cmap='bone_r')\n",
    "  ax.set_title(classes[r[1].numpy()[1]])\n",
    "  ax.axis('off')\n"
   ]
  },
  {
   "cell_type": "code",
   "execution_count": 18,
   "metadata": {
    "id": "4qp8zxZM2t6S"
   },
   "outputs": [],
   "source": [
    "class VAE(nn.Module):\n",
    "  def __init__(self):\n",
    "    super().__init__()\n",
    "\n",
    "    self.input_layer = nn.Linear(784, 400)\n",
    "\n",
    "    self.mu = nn.Linear(400, 20)\n",
    "\n",
    "    self.sigma = nn.Linear(400, 20)\n",
    "\n",
    "    self.upscale_sample = nn.Linear(20,400)\n",
    "\n",
    "    self.output_layer = nn.Linear(400, 784)\n",
    "\n",
    "  def encode(self, x):\n",
    "    x = F.relu(self.input_layer(x))\n",
    "    return self.mu(x), self.sigma(x)\n",
    "\n",
    "  def parametric(self, mu, sigma):\n",
    "    std = sigma.exp()\n",
    "\n",
    "    if torch.cuda.is_available():\n",
    "      sample = torch.cuda.FloatTensor(mu.size()).normal_()\n",
    "    else:\n",
    "      sample = torch.FloatTensor(mu.size()).normal_()\n",
    "\n",
    "    sample = Variable(sample)\n",
    "\n",
    "    return sample.mul(std).add(mu)\n",
    "\n",
    "  def decode(self, sample):\n",
    "    x = F.relu(self.upscale_sample(sample))\n",
    "    return torch.sigmoid(self.output_layer(x))\n",
    "\n",
    "\n",
    "  def forward(self, x):\n",
    "    mu, sigma = self.encode(x)\n",
    "    sample = self.parametric(mu, sigma)\n",
    "\n",
    "    return self.decode(sample), mu, sigma"
   ]
  },
  {
   "cell_type": "code",
   "execution_count": 20,
   "metadata": {
    "id": "enb7Qx9440KF"
   },
   "outputs": [],
   "source": [
    "model = VAE().to(device)"
   ]
  },
  {
   "cell_type": "code",
   "execution_count": 21,
   "metadata": {
    "colab": {
     "base_uri": "https://localhost:8080/"
    },
    "id": "AFb1hMmQ42f3",
    "outputId": "b5f24656-230b-4907-b458-e9e8981e9636"
   },
   "outputs": [
    {
     "data": {
      "text/plain": [
       "VAE(\n",
       "  (input_layer): Linear(in_features=784, out_features=400, bias=True)\n",
       "  (mu): Linear(in_features=400, out_features=20, bias=True)\n",
       "  (sigma): Linear(in_features=400, out_features=20, bias=True)\n",
       "  (upscale_sample): Linear(in_features=20, out_features=400, bias=True)\n",
       "  (output_layer): Linear(in_features=400, out_features=784, bias=True)\n",
       ")"
      ]
     },
     "execution_count": 21,
     "metadata": {},
     "output_type": "execute_result"
    }
   ],
   "source": [
    "model"
   ]
  },
  {
   "cell_type": "code",
   "execution_count": 22,
   "metadata": {
    "id": "W7LWUZqH5BN2"
   },
   "outputs": [],
   "source": [
    "def loss_function(reconstructed, real, mu, sigma):\n",
    "  image_loss = nn.MSELoss(reduction='sum')(reconstructed, real)\n",
    "\n",
    "  kl_loss = -0.5*(torch.sum(1+sigma - mu.pow(2) - sigma.exp()))\n",
    "\n",
    "  return image_loss, kl_loss"
   ]
  },
  {
   "cell_type": "code",
   "execution_count": 23,
   "metadata": {
    "id": "6RVSXzJZ5dzF"
   },
   "outputs": [],
   "source": [
    "optimizer = optim.Adam(model.parameters(), lr=1e-3)"
   ]
  },
  {
   "cell_type": "code",
   "execution_count": 24,
   "metadata": {
    "colab": {
     "base_uri": "https://localhost:8080/"
    },
    "id": "AVZL2dji5jCf",
    "outputId": "5a98376c-6e7b-42bc-9176-52994a7b8b50"
   },
   "outputs": [
    {
     "name": "stdout",
     "output_type": "stream",
     "text": [
      "Epoch: 0\n"
     ]
    },
    {
     "name": "stderr",
     "output_type": "stream",
     "text": [
      "<ipython-input-18-0a42f9c308e5>:23: UserWarning: The torch.cuda.*DtypeTensor constructors are no longer recommended. It's best to use methods such as torch.tensor(data, dtype=*, device='cuda') to create tensors. (Triggered internally at ../torch/csrc/tensor/python_tensor.cpp:83.)\n",
      "  sample = torch.cuda.FloatTensor(mu.size()).normal_()\n"
     ]
    },
    {
     "name": "stdout",
     "output_type": "stream",
     "text": [
      "Epoch: 1\n",
      "Epoch: 2\n",
      "Epoch: 3\n",
      "Epoch: 4\n",
      "Epoch: 5\n",
      "Epoch: 6\n",
      "Epoch: 7\n",
      "Epoch: 8\n",
      "Epoch: 9\n"
     ]
    }
   ],
   "source": [
    "epochs = 10\n",
    "\n",
    "for epoch in range(epochs):\n",
    "  model.train()\n",
    "\n",
    "  print(f\"Epoch: {epoch}\")\n",
    "\n",
    "  train_loss_im, train_loss_kl = 0,0\n",
    "\n",
    "  for b, data in enumerate(dataloader):\n",
    "    img, _ = data\n",
    "\n",
    "    img = img.view(img.size(0), -1)\n",
    "    img = Variable(img).to(device)\n",
    "\n",
    "    optimizer.zero_grad()\n",
    "\n",
    "    recons, mu, sigma = model(img)\n",
    "\n",
    "    loss_im, loss_kl = loss_function(recons, img, mu, sigma)\n",
    "\n",
    "    loss = loss_im+loss_kl\n",
    "\n",
    "    loss.backward()\n",
    "    optimizer.step()\n",
    "\n",
    "\n"
   ]
  },
  {
   "cell_type": "code",
   "execution_count": 33,
   "metadata": {
    "colab": {
     "base_uri": "https://localhost:8080/",
     "height": 326
    },
    "id": "lHK6wDzt6V0N",
    "outputId": "59cedadc-c170-4bb0-fcd3-833a3a135ad2"
   },
   "outputs": [
    {
     "data": {
      "text/plain": [
       "[]"
      ]
     },
     "execution_count": 33,
     "metadata": {},
     "output_type": "execute_result"
    },
    {
     "data": {
      "image/png": "[encoded data removed]",
      "text/plain": [
       "<Figure size 640x480 with 2 Axes>"
      ]
     },
     "metadata": {},
     "output_type": "display_data"
    }
   ],
   "source": [
    "model.eval()\n",
    "\n",
    "ev_img = next(iter(dataloader))[0].numpy()[1].reshape(28,28)\n",
    "\n",
    "ev_img_r = ev_img.ravel()\n",
    "\n",
    "ev_mu, ev_sigma = model.encode(torch.from_numpy(ev_img_r).cuda())\n",
    "\n",
    "ev_param_tensor = model.parametric(ev_mu, ev_sigma)\n",
    "\n",
    "ev_out = model.decode(ev_param_tensor).cpu().detach().numpy().reshape(28,28)\n",
    "\n",
    "fig, ax = plt.subplots(1,2)\n",
    "\n",
    "ax[0].set_title('Original Image')\n",
    "\n",
    "ax[0].imshow(ev_img, cmap='bone_r')\n",
    "\n",
    "ax[1].set_title('Reconstructed Image')\n",
    "\n",
    "ax[1].imshow(ev_out, cmap='bone_r')\n",
    "\n",
    "plt.plot()"
   ]
  }
 ],
 "metadata": {
  "accelerator": "GPU",
  "colab": {
   "gpuType": "T4",
   "provenance": []
  },
  "kernelspec": {
   "display_name": "Python 3 (ipykernel)",
   "language": "python",
   "name": "python3"
  },
  "language_info": {
   "codemirror_mode": {
    "name": "ipython",
    "version": 3
   },
   "file_extension": ".py",
   "mimetype": "text/x-python",
   "name": "python",
   "nbconvert_exporter": "python",
   "pygments_lexer": "ipython3",
   "version": "3.11.5"
  }
 },
 "nbformat": 4,
 "nbformat_minor": 1
}
